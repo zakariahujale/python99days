{
 "cells": [
  {
   "cell_type": "markdown",
   "metadata": {},
   "source": [
    "# Day One"
   ]
  },
  {
   "cell_type": "markdown",
   "metadata": {},
   "source": [
    "# Introduction of Python \n",
    "Python is a computer programming language often used to build websites and software, automate tasks, and conduct data analysis. Python is a general purpose language, meaning it can be used to create a variety of different programs and isn’t specialized for any specific problems.\n",
    "\n",
    "Python was introduced by Guido Van Rossum in 1989.\n",
    "This initial release has module system of Modula-3. Later on, this programming language was named ‘Python’\n",
    "\n",
    " Back in the 1970s, there was a popular BBC comedy tv show called Monty Python’s Fly Circus \n",
    " \n",
    " filename extensions are .py, .pyc, .pyd, .pyo.\n",
    " \n",
    " Python supports multiple programming paradigms like functional programming, imperative and procedural as well\n",
    "\n",
    "# There is more than one Python!\n",
    "In addition to Python 2 and Python 3, there is more than one version of each.\n"
   ]
  },
  {
   "cell_type": "markdown",
   "metadata": {},
   "source": [
    "# Print () "
   ]
  },
  {
   "cell_type": "code",
   "execution_count": 1,
   "metadata": {},
   "outputs": [
    {
     "name": "stdout",
     "output_type": "stream",
     "text": [
      "Salam tGIT\n"
     ]
    }
   ],
   "source": [
    "print ('Salam tGIT')"
   ]
  },
  {
   "cell_type": "code",
   "execution_count": 2,
   "metadata": {},
   "outputs": [
    {
     "name": "stdout",
     "output_type": "stream",
     "text": [
      "Zakaria \n",
      "Ali \n",
      "Hujale \n"
     ]
    }
   ],
   "source": [
    "print (\"Zakaria \")\n",
    "print (\"Ali \")\n",
    "print (\"Hujale \")\n"
   ]
  },
  {
   "cell_type": "code",
   "execution_count": 3,
   "metadata": {},
   "outputs": [
    {
     "name": "stdout",
     "output_type": "stream",
     "text": [
      "Zakaria\n",
      "ali \n",
      "hujale\n"
     ]
    }
   ],
   "source": [
    "print('Zakaria\\nali \\nhujale')"
   ]
  },
  {
   "cell_type": "markdown",
   "metadata": {},
   "source": [
    "# Maxa dhacay halkan sare !!"
   ]
  },
  {
   "cell_type": "code",
   "execution_count": null,
   "metadata": {},
   "outputs": [],
   "source": []
  },
  {
   "cell_type": "markdown",
   "metadata": {},
   "source": [
    "# Escape Sequence(Characters)"
   ]
  },
  {
   "cell_type": "markdown",
   "metadata": {},
   "source": [
    "There are some characters that have a special meaning when used in a string. But what do yo do if you would like to insert that character in the string as is, without invoking its special meaning.\n",
    "\n",
    "For understanding this, let us take a simple example. We use single quotes or double quotes to define a string. Suppose, we define a string with single quotes. The first occurrence of single quote marks the start of string and the second occurrence marks the end of the string. Now, consider that we would like to have a single quote in our string. What do we do now. If we place a single quote just like that in the middle of string, Python would think that this is the end of the string, which is actually not.\n",
    "\n",
    "To insert these kind of illegal characters, we need the help of a special character like backslash \\."
   ]
  },
  {
   "cell_type": "markdown",
   "metadata": {},
   "source": [
    "<p>Here is a list of all the escape sequences supported by Python.</p>\n",
    "\n",
    "<div class=\"table-responsive\">\n",
    "\t<table>\n",
    "\t\t<tbody>\n",
    "\t\t\t<tr>\n",
    "\t\t\t\t<th>Escape Sequence</th>\n",
    "\t\t\t\t<th>Description</th>\n",
    "\t\t\t</tr>\n",
    "\t\t\t<tr>\n",
    "\t\t\t\t<td>\\newline</td>\n",
    "\t\t\t\t<td>Backslash and newline ignored</td>\n",
    "\t\t\t</tr>\n",
    "\t\t\t<tr>\n",
    "\t\t\t\t<td>\\\\</td>\n",
    "\t\t\t\t<td>Backslash</td>\n",
    "\t\t\t</tr>\n",
    "\t\t\t<tr>\n",
    "\t\t\t\t<td>\\&#39;</td>\n",
    "\t\t\t\t<td>Single quote</td>\n",
    "\t\t\t</tr>\n",
    "\t\t\t<tr>\n",
    "\t\t\t\t<td>\\&quot;</td>\n",
    "\t\t\t\t<td>Double quote</td>\n",
    "\t\t\t</tr>\n",
    "\t\t\t<tr>\n",
    "\t\t\t\t<td>\\b</td>\n",
    "\t\t\t\t<td>ASCII Backspace</td>\n",
    "\t\t\t</tr>\n",
    "\t\t\t<tr>\n",
    "\t\t\t\t<td>\\n</td>\n",
    "\t\t\t\t<td>ASCII Linefeed</td>\n",
    "\t\t\t</tr>\n",
    "\t\t</tbody>\n",
    "\t</table>"
   ]
  },
  {
   "cell_type": "code",
   "execution_count": 26,
   "metadata": {},
   "outputs": [
    {
     "name": "stdout",
     "output_type": "stream",
     "text": [
      "hello\\world\n"
     ]
    }
   ],
   "source": [
    "x = 'hello\\\\world'\n",
    "print(x)"
   ]
  },
  {
   "cell_type": "code",
   "execution_count": 28,
   "metadata": {},
   "outputs": [
    {
     "name": "stdout",
     "output_type": "stream",
     "text": [
      "hello'world\n"
     ]
    }
   ],
   "source": [
    "x = 'hello\\'world' # or \"hello'world\"\n",
    "print(x)"
   ]
  },
  {
   "cell_type": "code",
   "execution_count": 29,
   "metadata": {},
   "outputs": [
    {
     "name": "stdout",
     "output_type": "stream",
     "text": [
      "hello\n",
      "world\n"
     ]
    }
   ],
   "source": [
    "x = 'hello\\nworld'\n",
    "print(x)"
   ]
  },
  {
   "cell_type": "code",
   "execution_count": 31,
   "metadata": {},
   "outputs": [
    {
     "name": "stdout",
     "output_type": "stream",
     "text": [
      "hello\tworld\n"
     ]
    }
   ],
   "source": [
    "x = 'hello\\tworld'\n",
    "print(x)"
   ]
  },
  {
   "cell_type": "code",
   "execution_count": 30,
   "metadata": {},
   "outputs": [
    {
     "name": "stdout",
     "output_type": "stream",
     "text": [
      "hello\bworld\n"
     ]
    }
   ],
   "source": [
    "x = 'hello\\bworld'\n",
    "print(x)"
   ]
  },
  {
   "cell_type": "code",
   "execution_count": 34,
   "metadata": {},
   "outputs": [
    {
     "name": "stdout",
     "output_type": "stream",
     "text": [
      "llo\f",
      "world\n"
     ]
    }
   ],
   "source": []
  },
  {
   "cell_type": "code",
   "execution_count": null,
   "metadata": {},
   "outputs": [],
   "source": []
  },
  {
   "cell_type": "markdown",
   "metadata": {},
   "source": [
    "# print function arguments (end and sep)"
   ]
  },
  {
   "cell_type": "markdown",
   "metadata": {},
   "source": [
    "There are two optional arguments to the print function. They are not overly important at this stage but they are useful for making your output look nice."
   ]
  },
  {
   "cell_type": "markdown",
   "metadata": {},
   "source": [
    "# end arguments"
   ]
  },
  {
   "cell_type": "code",
   "execution_count": 13,
   "metadata": {},
   "outputs": [
    {
     "name": "stdout",
     "output_type": "stream",
     "text": [
      "Zakaria \n",
      "Ali  Hujale \n"
     ]
    }
   ],
   "source": [
    "print (\"Zakaria \")\n",
    "print (\"Ali \", end = ' ')\n",
    "print (\"Hujale \")\n"
   ]
  },
  {
   "cell_type": "markdown",
   "metadata": {},
   "source": [
    "# Sep arguments"
   ]
  },
  {
   "cell_type": "code",
   "execution_count": 23,
   "metadata": {},
   "outputs": [
    {
     "name": "stdout",
     "output_type": "stream",
     "text": [
      "Mohammed Abdullah Abdul Mutalib Hashem\n"
     ]
    }
   ],
   "source": [
    "print('Mohammed','Abdullah','Abdul Mutalib','Hashem')"
   ]
  },
  {
   "cell_type": "code",
   "execution_count": 25,
   "metadata": {},
   "outputs": [
    {
     "name": "stdout",
     "output_type": "stream",
     "text": [
      "Mohammed ibn Abdullah ibn Abdul Mutalib ibn Hashem\n"
     ]
    }
   ],
   "source": [
    "print('Mohammed','Abdullah','Abdul Mutalib','Hashem',sep =' ibn ')\n"
   ]
  },
  {
   "cell_type": "markdown",
   "metadata": {},
   "source": [
    "# String\n",
    "A string is a sequence of UNICODE characters enclosed in quotation marks."
   ]
  },
  {
   "cell_type": "code",
   "execution_count": 49,
   "metadata": {},
   "outputs": [],
   "source": [
    "universityName = \"Gollis University\""
   ]
  },
  {
   "cell_type": "code",
   "execution_count": 50,
   "metadata": {},
   "outputs": [
    {
     "name": "stdout",
     "output_type": "stream",
     "text": [
      "Frantz Fanon\n"
     ]
    }
   ],
   "source": [
    "print(universityName)"
   ]
  },
  {
   "cell_type": "code",
   "execution_count": 51,
   "metadata": {},
   "outputs": [],
   "source": [
    "faculty = \"ICT\""
   ]
  },
  {
   "cell_type": "code",
   "execution_count": 52,
   "metadata": {},
   "outputs": [],
   "source": [
    "shift = \"Afternoon\""
   ]
  },
  {
   "cell_type": "code",
   "execution_count": 57,
   "metadata": {},
   "outputs": [
    {
     "name": "stdout",
     "output_type": "stream",
     "text": [
      "jacamadu uu dhigaa waa Frantz Fanon faculty giisuna waa ICT\n"
     ]
    }
   ],
   "source": [
    "print(\"jacamadu uu dhigaa waa \" + universityName + \" faculty giisuna waa \" + faculty  )"
   ]
  },
  {
   "cell_type": "markdown",
   "metadata": {},
   "source": [
    "# string Operators"
   ]
  },
  {
   "cell_type": "markdown",
   "metadata": {},
   "source": [
    "<p>In python, String operators represent the different types of operations that can be employed on the string type of variables in the program. Python allows several string operators that can be applied on the python string are as below:</p>\n",
    "<ul>\n",
    "<li>Assignment operator: “=”</li>\n",
    "<li>Concatenate operator: “+”</li>\n",
    "<li>String repetition operator: “*”</li>\n",
    "<li>String indexing operator: “[indexnumber]”</li>\n",
    "<li>String slicing operator: “[:]”</li>\n",
    "<li>String comparison operator: “==” &amp; “!=”</li>\n",
    "<li>Membership operator: “in” &amp; “not in”</li>\n",
    "<li>Escape sequence operator: “\\”</li>\n",
    "<li>String formatting operator: “%” &amp; “{}”</li>\n",
    "</ul>"
   ]
  },
  {
   "cell_type": "code",
   "execution_count": null,
   "metadata": {},
   "outputs": [],
   "source": [
    "# concatenation operator + "
   ]
  },
  {
   "cell_type": "code",
   "execution_count": 8,
   "metadata": {},
   "outputs": [],
   "source": [
    "firstname = \"Abdi \""
   ]
  },
  {
   "cell_type": "code",
   "execution_count": 9,
   "metadata": {},
   "outputs": [],
   "source": [
    "lastname = \"Omar\""
   ]
  },
  {
   "cell_type": "code",
   "execution_count": 10,
   "metadata": {},
   "outputs": [],
   "source": [
    "fullname = firstname + lastname"
   ]
  },
  {
   "cell_type": "code",
   "execution_count": 11,
   "metadata": {},
   "outputs": [
    {
     "name": "stdout",
     "output_type": "stream",
     "text": [
      "my fullname is Abdi Omar\n"
     ]
    }
   ],
   "source": [
    "print(\"my fullname is \" + fullname)"
   ]
  },
  {
   "cell_type": "code",
   "execution_count": 14,
   "metadata": {},
   "outputs": [],
   "source": [
    "fullname10 = fullname * 10"
   ]
  },
  {
   "cell_type": "code",
   "execution_count": 15,
   "metadata": {},
   "outputs": [
    {
     "name": "stdout",
     "output_type": "stream",
     "text": [
      "my full name printed 10 times is Abdi OmarAbdi OmarAbdi OmarAbdi OmarAbdi OmarAbdi OmarAbdi OmarAbdi OmarAbdi OmarAbdi Omar\n"
     ]
    }
   ],
   "source": [
    "print(\"my full name printed 10 times is \" + fullname10)"
   ]
  },
  {
   "cell_type": "code",
   "execution_count": 17,
   "metadata": {},
   "outputs": [],
   "source": [
    "name = \"Abdi\""
   ]
  },
  {
   "cell_type": "code",
   "execution_count": 18,
   "metadata": {},
   "outputs": [
    {
     "name": "stdout",
     "output_type": "stream",
     "text": [
      "A i\n"
     ]
    }
   ],
   "source": [
    "print(name[0],name[3]) #indexing"
   ]
  },
  {
   "cell_type": "markdown",
   "metadata": {},
   "source": [
    "<h4><b></b> String indexing operator “[indexNumber]”</h4>\n",
    "<p>Characters from a specific index of the string can be accessed with the string[index] operator.  calling one by one The index is interpreted as a positive index starting from 0 from the left side and negative index starting from -1 from the right side.</p>\n",
    "<table style=\"height: 140px\" width=\"770\">\n",
    "<tbody>\n",
    "<tr>\n",
    "<td width=\"46\"><strong>String</strong></td>\n",
    "<td width=\"46\"><strong>H</strong></td>\n",
    "<td width=\"46\"><strong>E</strong></td>\n",
    "<td width=\"46\"><strong>L</strong></td>\n",
    "<td width=\"46\"><strong>L</strong></td>\n",
    "<td width=\"46\"><strong>O</strong></td>\n",
    "<td width=\"46\"><strong>W</strong></td>\n",
    "<td width=\"46\"><strong>O</strong></td>\n",
    "<td width=\"46\"><strong>R</strong></td>\n",
    "<td width=\"46\"><strong>L</strong></td>\n",
    "<td width=\"46\"><strong>D</strong></td>\n",
    "</tr>\n",
    "<tr>\n",
    "<td width=\"46\"><strong>Positive index</strong></td>\n",
    "<td width=\"46\">0</td>\n",
    "<td width=\"46\">1</td>\n",
    "<td width=\"46\">2</td>\n",
    "<td width=\"46\">3</td>\n",
    "<td width=\"46\">4</td>\n",
    "<td width=\"46\">5</td>\n",
    "<td width=\"46\">6</td>\n",
    "<td width=\"46\">7</td>\n",
    "<td width=\"46\">8</td>\n",
    "<td width=\"46\">9</td>\n",
    "</tr>\n",
    "<tr>\n",
    "<td width=\"46\"><strong>Negative index</strong></td>\n",
    "<td width=\"46\">-10</td>\n",
    "<td width=\"46\">-9</td>\n",
    "<td width=\"46\">-8</td>\n",
    "<td width=\"46\">-7</td>\n",
    "<td width=\"46\">-6</td>\n",
    "<td width=\"46\">-5</td>\n",
    "<td width=\"46\">-4</td>\n",
    "<td width=\"46\">-3</td>\n",
    "<td width=\"46\">-2</td>\n",
    "<td width=\"46\">-1</td>\n",
    "</tr>\n",
    "</tbody>\n",
    "</table>"
   ]
  },
  {
   "cell_type": "markdown",
   "metadata": {},
   "source": [
    "Characters from a specific index of the string can be accessed with the string[index] operator. using slicing by group "
   ]
  },
  {
   "cell_type": "code",
   "execution_count": 24,
   "metadata": {},
   "outputs": [
    {
     "name": "stdout",
     "output_type": "stream",
     "text": [
      "li\n"
     ]
    }
   ],
   "source": [
    "print(name[3:5]) #slicing"
   ]
  },
  {
   "cell_type": "code",
   "execution_count": 19,
   "metadata": {},
   "outputs": [
    {
     "data": {
      "text/plain": [
       "3"
      ]
     },
     "execution_count": 19,
     "metadata": {},
     "output_type": "execute_result"
    }
   ],
   "source": [
    "name.index(\"i\")"
   ]
  },
  {
   "cell_type": "markdown",
   "metadata": {},
   "source": [
    "Python 3 uses Unicode characters for string data. We need to perform different types of tasks based on the programming purpose on the string data such as searching the particular character or characters, capitalizing the first character, making all characters uppercase, etc. Python has many built-in string methods to do these types of tasks very easily"
   ]
  },
  {
   "cell_type": "markdown",
   "metadata": {},
   "source": [
    "\n",
    "Python String capitalize()\n",
    "Converts first character to Capital Letter\n",
    "\n",
    "Python String center()\n",
    "Pads string with specified character\n",
    "\n",
    "Python String count()\n",
    "returns occurrences of substring in string\n",
    "\n",
    "Python String encode()\n",
    "returns encoded string of given string\n",
    "\n",
    "Python String endswith()\n",
    "Checks if String Ends with the Specified Suffix\n",
    "\n",
    "Python String expandtabs()\n",
    "Replaces Tab character With Spaces\n",
    "\n",
    "Python String find()\n",
    "Returns the index of first occurrence of substring\n",
    "\n",
    "Python String format()\n",
    "formats string into nicer output\n",
    "\n",
    "Python String format_map()\n",
    "Formats the String Using Dictionary\n",
    "\n",
    "Python String index()\n",
    "Returns Index of Substring\n",
    "\n",
    "Python String isalnum()\n",
    "Checks Alphanumeric Character\n",
    "\n",
    "Python String isalpha()\n",
    "Checks if All Characters are Alphabets\n",
    "\n",
    "Python String isdecimal()\n",
    "Checks Decimal Characters\n",
    "\n",
    "Python String isdigit()\n",
    "Checks Digit Characters\n",
    "\n",
    "Python String isidentifier()\n",
    "Checks for Valid Identifier\n",
    "\n",
    "Python String islower()\n",
    "Checks if all Alphabets in a String are Lowercase\n",
    "\n",
    "Python String isnumeric()\n",
    "Checks Numeric Characters\n",
    "\n",
    "Python String isprintable()\n",
    "Checks Printable Character\n",
    "\n",
    "Python String isspace()\n",
    "Checks Whitespace Characters\n",
    "\n",
    "Python String istitle()\n",
    "Checks for Titlecased String\n",
    "\n",
    "Python String isupper()\n",
    "returns if all characters are uppercase characters\n",
    "\n",
    "Python String join()\n",
    "Returns a Concatenated String\n",
    "\n",
    "\n",
    "Python String lower()\n",
    "returns lowercased string\n",
    "\n",
    "Python String lstrip()\n",
    "Removes Leading Characters\n",
    "\n",
    "\n",
    "Python String replace()\n",
    "Replaces Substring Inside\n",
    "\n",
    "Python String rfind()\n",
    "Returns the Highest Index of Substring\n",
    "\n",
    "Python String rindex()\n",
    "Returns Highest Index of Substring\n",
    "\n",
    "Python String rjust()\n",
    "returns right-justified string of given width\n",
    "\n",
    "\n",
    "Python String rsplit()\n",
    "Splits String From Right\n",
    "\n",
    "Python String rstrip()\n",
    "Removes Trailing Characters\n",
    "\n",
    "Python String split()\n",
    "Splits String from Left\n",
    "\n",
    "Python String splitlines()\n",
    "Splits String at Line Boundaries\n",
    "\n",
    "Python String startswith()\n",
    "Checks if String Starts with the Specified String\n",
    "\n",
    "Python String strip()\n",
    "Removes Both Leading and Trailing Characters\n",
    "\n",
    "Python String swapcase()\n",
    "swap uppercase characters to lowercase; vice versa\n",
    "\n",
    "Python String title()\n",
    "Returns a Title Cased String\n",
    "\n",
    "\n",
    "Python String upper()\n",
    "returns uppercased string\n"
   ]
  },
  {
   "cell_type": "code",
   "execution_count": 35,
   "metadata": {},
   "outputs": [
    {
     "name": "stdout",
     "output_type": "stream",
     "text": [
      "Zakaria\n"
     ]
    }
   ],
   "source": [
    "name = 'zakaria'\n",
    "print(name.capitalize())"
   ]
  },
  {
   "cell_type": "markdown",
   "metadata": {},
   "source": [
    "# Numbers In python"
   ]
  },
  {
   "cell_type": "markdown",
   "metadata": {},
   "source": [
    "\n",
    "<table align=\"left\", text-align: \"left\">\n",
    "\t<tbody >\n",
    "\t\t<tr>\n",
    "\t\t\t<th>Operator</th>\n",
    "\t\t\t<th>Meaning</th>\n",
    "\t\t\t<th>Example</th>\n",
    "\t\t</tr>\n",
    "\t\t<tr>\n",
    "\t\t\t<td>+</td>\n",
    "\t\t\t<td>Add two operands or unary plus</td>\n",
    "\t\t\t<td>x + y+ 2</td>\n",
    "\t\t</tr>\n",
    "\t\t<tr>\n",
    "\t\t\t<td>-</td>\n",
    "\t\t\t<td>Subtract right operand from the left or unary minus</td>\n",
    "\t\t\t<td>x - y- 2</td>\n",
    "\t\t</tr>\n",
    "\t\t<tr>\n",
    "\t\t\t<td>*</td>\n",
    "\t\t\t<td>Multiply two operands</td>\n",
    "\t\t\t<td>x * y</td>\n",
    "\t\t</tr>\n",
    "\t\t<tr>\n",
    "\t\t\t<td>/</td>\n",
    "\t\t\t<td>Divide left operand by the right one (always results into float)</td>\n",
    "\t\t\t<td>x / y</td>\n",
    "\t\t</tr>\n",
    "\t\t<tr>\n",
    "\t\t\t<td>%</td>\n",
    "\t\t\t<td>Modulus - remainder of the division of left operand by the right</td>\n",
    "\t\t\t<td>x % y (remainder of x/y)</td>\n",
    "\t\t</tr>\n",
    "\t\t<tr>\n",
    "\t\t\t<td>//</td>\n",
    "\t\t\t<td>Floor division - division that results into whole number adjusted to the left in the number line</td>\n",
    "\t\t\t<td>x // y</td>\n",
    "\t\t</tr>\n",
    "\t\t<tr>\n",
    "\t\t\t<td>**</td>\n",
    "\t\t\t<td>Exponent - left operand raised to the power of right</td>\n",
    "\t\t\t<td>x**y (x to the power y)</td>\n",
    "\t\t</tr>\n",
    "        <tr>\n",
    "\t\t\t<td>**0.5</td>\n",
    "\t\t\t<td>Root</td>\n",
    "\t\t\t<td>x**0.5 (x root)</td>\n",
    "\t\t</tr>\n",
    "\t</tbody>\n",
    "</table>\n"
   ]
  },
  {
   "cell_type": "code",
   "execution_count": 4,
   "metadata": {},
   "outputs": [
    {
     "name": "stdout",
     "output_type": "stream",
     "text": [
      "6\n"
     ]
    }
   ],
   "source": [
    "print(4 + 2)"
   ]
  },
  {
   "cell_type": "code",
   "execution_count": 3,
   "metadata": {},
   "outputs": [
    {
     "name": "stdout",
     "output_type": "stream",
     "text": [
      "2\n"
     ]
    }
   ],
   "source": [
    "print(4 - 2)"
   ]
  },
  {
   "cell_type": "code",
   "execution_count": 2,
   "metadata": {},
   "outputs": [
    {
     "name": "stdout",
     "output_type": "stream",
     "text": [
      "2.0\n"
     ]
    }
   ],
   "source": [
    "print(4 / 2)"
   ]
  },
  {
   "cell_type": "code",
   "execution_count": 1,
   "metadata": {},
   "outputs": [
    {
     "name": "stdout",
     "output_type": "stream",
     "text": [
      "8\n"
     ]
    }
   ],
   "source": [
    "print(4 * 2)"
   ]
  },
  {
   "cell_type": "code",
   "execution_count": 13,
   "metadata": {},
   "outputs": [
    {
     "name": "stdout",
     "output_type": "stream",
     "text": [
      "2\n"
     ]
    }
   ],
   "source": [
    "print(13//5)"
   ]
  },
  {
   "cell_type": "code",
   "execution_count": 14,
   "metadata": {},
   "outputs": [
    {
     "name": "stdout",
     "output_type": "stream",
     "text": [
      "4\n"
     ]
    }
   ],
   "source": [
    "print(9//2)"
   ]
  },
  {
   "cell_type": "code",
   "execution_count": 16,
   "metadata": {},
   "outputs": [
    {
     "name": "stdout",
     "output_type": "stream",
     "text": [
      "3\n"
     ]
    }
   ],
   "source": [
    "print(13%5)"
   ]
  },
  {
   "cell_type": "code",
   "execution_count": 17,
   "metadata": {},
   "outputs": [
    {
     "name": "stdout",
     "output_type": "stream",
     "text": [
      "2\n"
     ]
    }
   ],
   "source": [
    "print(5%3)"
   ]
  },
  {
   "cell_type": "code",
   "execution_count": 18,
   "metadata": {},
   "outputs": [
    {
     "name": "stdout",
     "output_type": "stream",
     "text": [
      "25\n"
     ]
    }
   ],
   "source": [
    "print(5**2)"
   ]
  },
  {
   "cell_type": "code",
   "execution_count": 19,
   "metadata": {},
   "outputs": [
    {
     "name": "stdout",
     "output_type": "stream",
     "text": [
      "1000\n"
     ]
    }
   ],
   "source": [
    "print(10**3)"
   ]
  },
  {
   "cell_type": "code",
   "execution_count": 20,
   "metadata": {},
   "outputs": [
    {
     "name": "stdout",
     "output_type": "stream",
     "text": [
      "5.0\n"
     ]
    }
   ],
   "source": [
    "print(25**0.5)"
   ]
  },
  {
   "cell_type": "code",
   "execution_count": 22,
   "metadata": {},
   "outputs": [
    {
     "name": "stdout",
     "output_type": "stream",
     "text": [
      "19.725021954206706\n"
     ]
    }
   ],
   "source": [
    "print(144**0.6)"
   ]
  },
  {
   "cell_type": "markdown",
   "metadata": {},
   "source": [
    "<p>The operator precedence in Python is listed in the following table. It is in descending order (upper group has higher precedence than the lower ones).</p>\n",
    "\t<table>\n",
    "\t\t<tbody>\n",
    "\t\t\t<tr>\n",
    "\t\t\t\t<th>Operators</th>\n",
    "\t\t\t\t<th>Meaning</th>\n",
    "\t\t\t</tr>\n",
    "\t\t\t<tr>\n",
    "\t\t\t\t<td><code>()</code></td>\n",
    "\t\t\t\t<td>Parentheses</td>\n",
    "\t\t\t</tr>\n",
    "\t\t\t<tr>\n",
    "\t\t\t\t<td><code>**</code></td>\n",
    "\t\t\t\t<td>Exponent</td>\n",
    "\t\t\t</tr>\n",
    "\t\t\t<tr>\n",
    "\t\t\t\t<td><code>*</code>, <code>/</code>, <code>//</code>, <code>%</code></td>\n",
    "\t\t\t\t<td>Multiplication, Division, Floor division, Modulus</td>\n",
    "\t\t\t</tr>\n",
    "\t\t\t<tr>\n",
    "\t\t\t\t<td><code>+</code>, <code>-</code></td>\n",
    "\t\t\t\t<td>Addition, Subtraction</td>\n",
    "\t\t\t</tr>\n",
    "\t\t</tbody>\n",
    "\t</table>\n"
   ]
  },
  {
   "cell_type": "code",
   "execution_count": 24,
   "metadata": {},
   "outputs": [
    {
     "name": "stdout",
     "output_type": "stream",
     "text": [
      "30\n"
     ]
    }
   ],
   "source": [
    "print((2 + 4) * 5)"
   ]
  },
  {
   "cell_type": "code",
   "execution_count": 25,
   "metadata": {},
   "outputs": [
    {
     "name": "stdout",
     "output_type": "stream",
     "text": [
      "7\n"
     ]
    }
   ],
   "source": [
    "print( 2 - 4 + 9)"
   ]
  },
  {
   "cell_type": "code",
   "execution_count": 26,
   "metadata": {},
   "outputs": [
    {
     "data": {
      "text/plain": [
       "14.0"
      ]
     },
     "execution_count": 26,
     "metadata": {},
     "output_type": "execute_result"
    }
   ],
   "source": [
    "(4 / 2) + 2 + 4 - 3 + (7 % 7) + (3**2)"
   ]
  },
  {
   "cell_type": "markdown",
   "metadata": {},
   "source": [
    "# Variables "
   ]
  },
  {
   "cell_type": "markdown",
   "metadata": {},
   "source": [
    "Variables are containers for storing data values."
   ]
  },
  {
   "cell_type": "markdown",
   "metadata": {},
   "source": [
    "The names you use when creating these labels need to follow a few rules:\n",
    "\n",
    "    1. Names can not start with a number.\n",
    "    2. There can be no spaces in the name, use _ instead.\n",
    "    3. Can't use any of these symbols :'\",<>/?|\\()!@#$%^&*~-+\n",
    "    4. It's considered best practice (PEP8) that names are lowercase.\n",
    "    5. Avoid using the characters 'l' (lowercase letter el), 'O' (uppercase letter oh), \n",
    "       or 'I' (uppercase letter eye) as single character variable names.\n",
    "    6. Avoid using words that have special meaning in Python like \"list\" and \"str\"\n",
    "\n",
    "\n",
    "Using variable names can be a very useful way to keep track of different variables in Python"
   ]
  },
  {
   "cell_type": "markdown",
   "metadata": {},
   "source": [
    "# correct variable \n",
    "\n",
    "name\n",
    "\n",
    "age\n",
    "\n",
    "university\n",
    "\n",
    "city\n",
    "\n",
    "country\n",
    "\n",
    "mother_name\n",
    "\n",
    "# incorrect\n",
    "9name\n",
    "\n",
    "father name\n",
    "\n",
    "father-name\n"
   ]
  },
  {
   "cell_type": "code",
   "execution_count": 29,
   "metadata": {},
   "outputs": [
    {
     "name": "stdout",
     "output_type": "stream",
     "text": [
      "Abdi Ali\n"
     ]
    }
   ],
   "source": [
    "name = \"Abdi \"\n",
    "father_name = \"Ali\"\n",
    "\n",
    "fullname = name + father_name\n",
    "\n",
    "print (fullname)"
   ]
  },
  {
   "cell_type": "code",
   "execution_count": 32,
   "metadata": {},
   "outputs": [
    {
     "name": "stdout",
     "output_type": "stream",
     "text": [
      "32.5\n"
     ]
    }
   ],
   "source": [
    "x = 5\n",
    "y = 6.5\n",
    "\n",
    "result = x * y\n",
    "\n",
    "print (result)"
   ]
  },
  {
   "cell_type": "code",
   "execution_count": 35,
   "metadata": {},
   "outputs": [],
   "source": [
    "x = \"x\""
   ]
  },
  {
   "cell_type": "code",
   "execution_count": 37,
   "metadata": {},
   "outputs": [
    {
     "data": {
      "text/plain": [
       "str"
      ]
     },
     "execution_count": 37,
     "metadata": {},
     "output_type": "execute_result"
    }
   ],
   "source": [
    "type(x)"
   ]
  },
  {
   "cell_type": "code",
   "execution_count": 38,
   "metadata": {},
   "outputs": [
    {
     "name": "stdout",
     "output_type": "stream",
     "text": [
      "475.0\n"
     ]
    }
   ],
   "source": [
    "salary = 500\n",
    "tax = 0.05\n",
    "\n",
    "aftertax = salary - (salary * tax)\n",
    "\n",
    "print(aftertax)"
   ]
  },
  {
   "cell_type": "code",
   "execution_count": 4,
   "metadata": {
    "scrolled": true
   },
   "outputs": [
    {
     "name": "stdout",
     "output_type": "stream",
     "text": [
      "my fullname is Abdi Ali Omar and my age is 35 and my bloodtype is O\n",
      "my fullname is Abdi Ali Omar and my age is 35 and my bloodtype is O\n",
      "my fullname is Abdi Ali Omar and my age is 35 and my bloodtype is O\n"
     ]
    }
   ],
   "source": [
    "name = input(\"\")\n",
    "age = input(\"\")\n",
    "bloodtype = input(\"\")\n",
    " \n",
    "print(\"my fullname is %s and my age is %s and my bloodtype is %s\" % (name,age,bloodtype))\n",
    "\n",
    "print(\"my fullname is {} and my age is {} and my bloodtype is {}\".format(name,age, bloodtype))\n",
    "\n",
    "print(f\"my fullname is {name} and my age is {age} and my bloodtype is {bloodtype}\")"
   ]
  }
 ],
 "metadata": {
  "kernelspec": {
   "display_name": "Python 3 (ipykernel)",
   "language": "python",
   "name": "python3"
  },
  "language_info": {
   "codemirror_mode": {
    "name": "ipython",
    "version": 3
   },
   "file_extension": ".py",
   "mimetype": "text/x-python",
   "name": "python",
   "nbconvert_exporter": "python",
   "pygments_lexer": "ipython3",
   "version": "3.9.7"
  }
 },
 "nbformat": 4,
 "nbformat_minor": 4
}
